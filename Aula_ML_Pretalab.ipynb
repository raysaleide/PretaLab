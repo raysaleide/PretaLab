{
  "nbformat": 4,
  "nbformat_minor": 0,
  "metadata": {
    "colab": {
      "provenance": [],
      "include_colab_link": true
    },
    "kernelspec": {
      "name": "python3",
      "display_name": "Python 3"
    },
    "language_info": {
      "name": "python"
    }
  },
  "cells": [
    {
      "cell_type": "markdown",
      "metadata": {
        "id": "view-in-github",
        "colab_type": "text"
      },
      "source": [
        "<a href=\"https://colab.research.google.com/github/raysaleide/PretaLab/blob/main/Aula_ML_Pretalab.ipynb\" target=\"_parent\"><img src=\"https://colab.research.google.com/assets/colab-badge.svg\" alt=\"Open In Colab\"/></a>"
      ]
    },
    {
      "cell_type": "markdown",
      "source": [
        "#Classificação de imagem\n"
      ],
      "metadata": {
        "id": "nQdM-yFt3Nfz"
      }
    },
    {
      "cell_type": "code",
      "execution_count": null,
      "metadata": {
        "id": "Xx-V5dVVzYBS"
      },
      "outputs": [],
      "source": [
        "!wget https://img.freepik.com/fotos-gratis/jovem-mulher-negra-surpresa-com-a-boca-aberta_23-2148183287.jpg"
      ]
    },
    {
      "cell_type": "code",
      "source": [
        "# Use a pipeline as a high-level helper\n",
        "from transformers import pipeline\n",
        "from PIL import Image\n",
        "\n",
        "\n",
        "pipe = pipeline(\"image-classification\", model=\"google/vit-base-patch32-384\", device=0)"
      ],
      "metadata": {
        "id": "_IigwwKf5aOt"
      },
      "execution_count": null,
      "outputs": []
    },
    {
      "cell_type": "code",
      "source": [
        "imagem = Image.open(\"jovem-mulher-negra-surpresa-com-a-boca-aberta_23-2148183287.jpg\")\n",
        "res = pipe(imagem)\n",
        "\n",
        "res"
      ],
      "metadata": {
        "id": "h8G-eylD8-Qt"
      },
      "execution_count": null,
      "outputs": []
    },
    {
      "cell_type": "code",
      "source": [
        "# Pipeline para detecção de objetos/pessoas + contexto\n",
        "detector = pipeline(\"object-detection\", model=\"facebook/detr-resnet-50\")\n",
        "classifier = pipeline(\"image-classification\", model=\"google/vit-base-patch16-224\")"
      ],
      "metadata": {
        "id": "JWujpyQ3-fbv"
      },
      "execution_count": null,
      "outputs": []
    },
    {
      "cell_type": "code",
      "source": [
        "# Analisar imagem\n",
        "imagem = \"jovem-mulher-negra-surpresa-com-a-boca-aberta_23-2148183287.jpg\"\n",
        "detections = detector(imagem)  # Detecta pessoas e objetos\n",
        "person_bbox = [d for d in detections if d['label'] == 'person'][0]  # Pega a pessoa principal"
      ],
      "metadata": {
        "id": "0wzJ9X0ZBYaE"
      },
      "execution_count": null,
      "outputs": []
    },
    {
      "cell_type": "code",
      "source": [
        "result = classifier(\"jovem-mulher-negra-surpresa-com-a-boca-aberta_23-2148183287.jpg\")  # Classifica a pessoa\n",
        "print(result)"
      ],
      "metadata": {
        "id": "5MD68KYrBTEV"
      },
      "execution_count": null,
      "outputs": []
    },
    {
      "cell_type": "code",
      "source": [
        "result = classifier(\"jovem-mulher-negra-surpresa-com-a-boca-aberta_23-2148183287.jpg\")\n",
        "\n",
        "print(\"\\n🔍 Resultados da Classificação:\")\n",
        "print(\"=\" * 40)\n",
        "for item in result:\n",
        "    print(f\"🏷️ {item['label'].upper():<30} | 📊 {item['score']*100:.2f}%\")\n",
        "print(\"=\" * 40)"
      ],
      "metadata": {
        "id": "lnDwyGDcDdgU"
      },
      "execution_count": null,
      "outputs": []
    },
    {
      "cell_type": "markdown",
      "source": [
        "## Vamos treinar Imagens"
      ],
      "metadata": {
        "id": "-NcU49c2KSJB"
      }
    },
    {
      "cell_type": "markdown",
      "source": [
        "#Instalação"
      ],
      "metadata": {
        "id": "nZKloCJd5Zk3"
      }
    },
    {
      "cell_type": "code",
      "source": [
        "pip install torch torchvision matplotlib"
      ],
      "metadata": {
        "id": "woxvV691EpXZ"
      },
      "execution_count": null,
      "outputs": []
    },
    {
      "cell_type": "markdown",
      "source": [
        "# Pasta"
      ],
      "metadata": {
        "id": "jk2k4s4D5Vuu"
      }
    },
    {
      "cell_type": "code",
      "source": [
        "from google.colab import drive\n",
        "# Monta o Google Drive para acessar os arquivos\n",
        "drive.mount('/content/drive')\n"
      ],
      "metadata": {
        "id": "d-2i0gM9WhN5"
      },
      "execution_count": null,
      "outputs": []
    },
    {
      "cell_type": "code",
      "source": [
        "import os\n",
        "\n",
        "path = \"/content/drive/MyDrive/Projeto ML/Dataset-img\"\n",
        "print(os.listdir(path))"
      ],
      "metadata": {
        "id": "yOfI3elZLIt1"
      },
      "execution_count": null,
      "outputs": []
    },
    {
      "cell_type": "markdown",
      "source": [
        "#Treinamento de dataset img"
      ],
      "metadata": {
        "id": "Mhzfdykh5OQN"
      }
    },
    {
      "cell_type": "code",
      "source": [
        "import shutil\n",
        "import tensorflow as tf\n",
        "from tensorflow.keras.preprocessing.image import ImageDataGenerator\n",
        "from tensorflow.keras.models import Sequential\n",
        "from tensorflow.keras.layers import Conv2D, MaxPooling2D, Flatten, Dense\n",
        "\n",
        "# 1. Primeiro, vamos organizar suas imagens\n",
        "def organize_images(source_dir, target_dir, class_name):\n",
        "    os.makedirs(os.path.join(target_dir, class_name), exist_ok=True) #Cria a pasta de destino (se não existir):\n",
        "\n",
        "    for img_file in os.listdir(source_dir): #Percorre todos os arquivos na pasta original:\n",
        "        if img_file.lower().endswith(('.png', '.jpg', '.jpeg', '.webp', '.avif')): #Verifica arquivo de imagem\n",
        "            src = os.path.join(source_dir, img_file) # Caminho original\n",
        "            dst = os.path.join(target_dir, class_name, img_file) # Caminho novo\n",
        "            shutil.copy(src, dst) # Copia (não move)\n",
        "\n",
        "# Caminhos (ajuste conforme seu ambiente)\n",
        "source_dir_brancas = '/content/drive/MyDrive/Projeto ML/Dataset-img/mulher-branca'\n",
        "source_dir_pretas = '/content/drive/MyDrive/Projeto ML/Dataset-img/mulher-preta'\n",
        "target_dir = '/content/dataset_organizado'\n",
        "\n",
        "# Organizando as imagens\n",
        "\"\"\"\n",
        "source_dir_brancas\n",
        "\n",
        "O que é?\n",
        "É uma variável que armazena o caminho (path) do diretório onde estão armazenadas as imagens originais de mulheres brancas ou pretas.\n",
        "\n",
        "os.path.join()\n",
        "\n",
        "O que é?\n",
        "É uma função do módulo os que combina partes de um caminho de forma correta para qualquer sistema operacional.\n",
        "\n",
        "target_dir\n",
        "\n",
        "O que é?\n",
        "É a variável que armazena o caminho do diretório principal onde as imagens organizadas serão armazenadas.\n",
        "\"\"\"\n",
        "organize_images(source_dir_brancas, os.path.join(target_dir, 'treinamento'), 'brancas')\n",
        "organize_images(source_dir_pretas, os.path.join(target_dir, 'treinamento'), 'pretas')\n",
        "\n",
        "\n",
        "# 2. Agora o treinamento\n",
        "IMG_SIZE = (224, 224)\n",
        "BATCH_SIZE = 8  # Reduzi porque tem poucas imagens(Ele vai processar imagem)\n",
        "EPOCHS = 15 # Uma passagem completa por todo o conjunto de treinamento.\n",
        "\n",
        "# Data augmentation\n",
        "train_datagen = ImageDataGenerator(\n",
        "    rescale=1./255, # Normaliza os valores dos pixels para [0,1]\n",
        "    validation_split=0.2, # Reserva 20% dos dados para validação(Divisão treino/validação)\n",
        "    rotation_range=20, # Rotaciona imagens aleatoriamente até 20 graus\n",
        "    width_shift_range=0.2, # Desloca imagem horizontalmente (20% da largura)\n",
        "    height_shift_range=0.2, # Desloca imagem verticalmente (20% da altura)\n",
        "    horizontal_flip=True # Inverte imagem horizontalmente aleatoriamente (Flip horizontal)\n",
        ")\n",
        "\n",
        "train_generator = train_datagen.flow_from_directory(\n",
        "    os.path.join(target_dir, 'treinamento'), # Pasta com imagens\n",
        "    target_size=IMG_SIZE,   # Redimensiona imagens\n",
        "    batch_size=BATCH_SIZE,  # Número de imagens por lote\n",
        "    class_mode='binary',  # Classificação binária\n",
        "    subset='training' # Usa parte de treino (80%)\n",
        ")\n",
        "\n",
        "validation_generator = train_datagen.flow_from_directory(\n",
        "    os.path.join(target_dir, 'treinamento'),\n",
        "    target_size=IMG_SIZE,\n",
        "    batch_size=BATCH_SIZE,\n",
        "    class_mode='binary',\n",
        "    subset='validation'  # Usa parte de validação (20%)\n",
        ")\n",
        "\n",
        "# Modelo simples\n",
        "# Definição da arquitetura do modelo\n",
        "model = Sequential([\n",
        "    # Primeira camada convolucional\n",
        "    Conv2D(32, (3, 3), activation='relu', input_shape=(IMG_SIZE[0], IMG_SIZE[1], 3)),\n",
        "    MaxPooling2D(2, 2), # Redução de dimensionalidade\n",
        "    Conv2D(64, (3, 3), activation='relu'),  # Segunda camada convolucional\n",
        "    MaxPooling2D(2, 2),\n",
        "    Flatten(), # Preparação para camadas densas(Transforma matriz em vetor)\n",
        "    Dense(128, activation='relu'), # Camada densa (fully connected)\n",
        "    Dense(1, activation='sigmoid') # Camada de saída (classificação binária)\n",
        "])\n",
        "\n",
        "# Configuração do processo de treinamento\n",
        "model.compile(\n",
        "    optimizer='adam',  # Otimizador eficiente\n",
        "    loss='binary_crossentropy', # Função de perda para classificação binária\n",
        "    metrics=['accuracy'] # Métrica a ser monitorada\n",
        ")\n",
        "\n",
        "# Treinamento\n",
        "history = model.fit(\n",
        "    train_generator, # Dados de treino\n",
        "    validation_data=validation_generator, # Dados de validação\n",
        "    epochs=EPOCHS # Número de épocas\n",
        ")\n",
        "\n",
        "\n",
        "# Salvar modelo\n",
        "model.save('modelo_classificacao_racial.h5')"
      ],
      "metadata": {
        "id": "u1lF9bsEJg-i"
      },
      "execution_count": null,
      "outputs": []
    },
    {
      "cell_type": "markdown",
      "source": [
        "# Extração de Features com MobileNetV2 + Classificador Binário"
      ],
      "metadata": {
        "id": "3tKmLioH5K-t"
      }
    },
    {
      "cell_type": "code",
      "source": [
        "# Importa a arquitetura MobileNetV2 pré-treinada\n",
        "from tensorflow.keras.applications import MobileNetV2\n",
        "\n",
        "# Carrega o modelo base MobileNetV2 com pesos pré-treinados no ImageNet\n",
        "base_model = MobileNetV2(weights='imagenet', include_top=False, input_shape=(224, 224, 3)) # Usa pesos treinados no ImageNet(Remove a última camada (classificação original e define o formato de entrada das imagens)\n",
        "base_model.trainable = False # Os pesos não serão atualizados durante o treino\n",
        "\n",
        "# Cria um novo modelo sequencial\n",
        "model = Sequential([\n",
        "    base_model,  # Extrai features das imagens\n",
        "    Flatten(), # Transforma os features em vetor\n",
        "    Dense(128, activation='relu'), # Adiciona capacidade de aprendizado\n",
        "    Dense(1, activation='sigmoid') # Saída entre 0 e 1 (probabilidade)\n",
        "])"
      ],
      "metadata": {
        "id": "W0UA12crLWKr"
      },
      "execution_count": null,
      "outputs": []
    },
    {
      "cell_type": "markdown",
      "source": [
        "# Testando Modelo"
      ],
      "metadata": {
        "id": "FxdAZhcO49V2"
      }
    },
    {
      "cell_type": "code",
      "source": [
        "import requests\n",
        "from io import BytesIO\n",
        "import numpy as np\n",
        "import matplotlib.pyplot as plt\n",
        "from tensorflow.keras.preprocessing import image\n",
        "from tensorflow.keras.models import load_model\n",
        "from PIL import Image\n",
        "\n",
        "# Carregar o modelo treinado\n",
        "model = load_model('modelo_classificacao_racial.h5')\n",
        "\n",
        "# Função para processar imagem da internet\n",
        "def test_image_from_url(img_url):\n",
        "    try:[10]\n",
        "1s\n",
        "import requests\n",
        "from io import BytesIO\n",
        "import numpy as np\n",
        "import matplotlib.pyplot as plt\n",
        "from tensorflow.keras.preprocessing import image\n",
        "from tensorflow.keras.models import load_model\n",
        "from PIL import Image\n",
        "\n",
        "# Carregar o modelo treinado\n",
        "model = load_model('modelo_classificacao_racial.h5')\n",
        "\n",
        "\n",
        "Produtos pagos do Colab - Cancelar contratos\n",
        "\n",
        "        # Baixar a imagem\n",
        "        response = requests.get(img_url) # Timeout de 10 segundos\n",
        "        img = Image.open(BytesIO(response.content)) # Verifica erros HTTP\n",
        "\n",
        "        # Converte para RGB caso seja PNG, RGBA, etc.\n",
        "        if img.mode != 'RGB':\n",
        "            img = img.convert('RGB')\n",
        "\n",
        "        # Mostrar a imagem original\n",
        "        plt.figure(figsize=(5, 5))\n",
        "        plt.imshow(img)\n",
        "        plt.axis('off')\n",
        "        plt.title('Imagem Original')\n",
        "        plt.show()\n",
        "\n",
        "        # Pré-processamento\n",
        "        img = img.resize((224, 224)) # Redimensiona para o tamanho esperado pelo modelo\n",
        "        img_array = image.img_to_array(img) # Converte para array numpy\n",
        "        img_array = np.expand_dims(img_array, axis=0) # Adiciona dimensão do batch\n",
        "        img_array /= 255.0  # Normaliza pixels para [0,1]\n",
        "\n",
        "        # Fazer a predição\n",
        "        prediction = model.predict(img_array) # Suprime logs\n",
        "        prob_branca = 1 - prediction[0][0] # Probabilidade da classe 'preta'\n",
        "        prob_preta = prediction[0][0] # Probabilidade complementar\n",
        "\n",
        "        # Determinar a classe\n",
        "        if prob_branca > prob_preta:\n",
        "            classe = \"Branca\"\n",
        "            confidence = prob_branca\n",
        "        else:\n",
        "            classe = \"Preta\"\n",
        "            confidence = prob_preta\n",
        "\n",
        "        # Mostrar resultados\n",
        "        print(\"\\nResultado da Classificação:\")\n",
        "        print(f\"Classe Predita: {classe}\")\n",
        "        print(f\"Confiança: {confidence:.2%}\")\n",
        "        print(f\"Probabilidade Branca: {prob_branca:.2%}\")\n",
        "        print(f\"Probabilidade Preta: {prob_preta:.2%}\")\n",
        "\n",
        "        return {\n",
        "            'class': classe,\n",
        "            'confidence': float(confidence),\n",
        "            'probabilities': {\n",
        "                'branca': float(prob_branca),\n",
        "                'preta': float(prob_preta)\n",
        "            }\n",
        "        }\n",
        "\n",
        "    except Exception as e:\n",
        "        print(f\"Erro ao processar a imagem: {e}\")\n",
        "        return None\n",
        "\n",
        "# Exemplos de URLs para testar (substitua por URLs reais)\n",
        "test_urls = [\n",
        "    \"https://www.minhavidamagnolia.com.br/wp-content/uploads/2024/07/Branca-Rubas-apresenta-o-Inspira-Mulher-Business-Club.png\",  # URL de mulher branca\n",
        "    \"https://paesadvogados.com.br/wp-content/uploads/2022/05/pardo.jpg\",   # URL de mulher preta\n",
        "\n",
        "]\n",
        "\n",
        "# Testar cada URL\n",
        "for url in test_urls:\n",
        "    print(f\"\\nTestando imagem: {url}\")\n",
        "    result = test_image_from_url(url)\n",
        "    if result:\n",
        "        print(f\"Resultado: {result['class']} (Confiança: {result['confidence']:.2%})\")"
      ],
      "metadata": {
        "id": "3FO1860yLu6-"
      },
      "execution_count": null,
      "outputs": []
    }
  ]
}